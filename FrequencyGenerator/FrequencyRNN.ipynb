{
 "cells": [
  {
   "cell_type": "code",
   "execution_count": 1,
   "metadata": {},
   "outputs": [
    {
     "name": "stderr",
     "output_type": "stream",
     "text": [
      "/home/sairam/projects/evv2gfcr/rnnvenv/lib/python3.10/site-packages/tqdm/auto.py:21: TqdmWarning: IProgress not found. Please update jupyter and ipywidgets. See https://ipywidgets.readthedocs.io/en/stable/user_install.html\n",
      "  from .autonotebook import tqdm as notebook_tqdm\n"
     ]
    }
   ],
   "source": [
    "%matplotlib inline\n",
    "import matplotlib.pyplot as plt\n",
    "\n",
    "import numpy as np\n",
    "import pandas as pd\n",
    "\n",
    "import torch.optim as optim\n",
    "#from torch.utils.tensorboard import SummaryWriter\n",
    "\n",
    "from darts.dataprocessing.transformers import Scaler\n",
    "from darts.models import RNNModel, Theta\n",
    "from darts.metrics import mape, rmse, r2_score\n",
    "from darts.utils.statistics import check_seasonality, plot_acf\n",
    "from darts.utils.timeseries_generation import datetime_attribute_timeseries\n",
    "\n",
    "from darts.datasets import SunspotsDataset, AirPassengersDataset\n",
    "\n",
    "import sys\n",
    "import time\n",
    "import warnings\n",
    "warnings.filterwarnings(\"ignore\")\n",
    "import logging\n",
    "logging.disable(logging.CRITICAL)\n",
    "\n",
    "FC_N = 36               # forecast periods\n",
    "FC_STRIDE = 10\n",
    "FC_START = \"19590101\"   # period at which to split training and validation dataset\n",
    "\n",
    "\n",
    "\n",
    "\n",
    "EPOCH = 300       # for testing or debugging, rather than real forecasts, \n",
    "                  # set EPOCH to a low value like 3; for the real deal: 300 \n",
    "                  # 300 will take as much as 30 - 50 minutes of processing time"
   ]
  },
  {
   "cell_type": "code",
   "execution_count": 2,
   "metadata": {},
   "outputs": [
    {
     "name": "stdout",
     "output_type": "stream",
     "text": [
      "                     Frequency\n",
      "2020-01-01 00:00:00  50.000233\n",
      "2020-01-01 00:00:01  50.025000\n",
      "2020-01-01 00:00:02  50.024000\n",
      "2020-01-01 00:00:03  50.023000\n",
      "2020-01-01 00:00:04  50.022000\n",
      "...                        ...\n",
      "2020-01-31 23:59:55  50.041000\n",
      "2020-01-31 23:59:56  50.039000\n",
      "2020-01-31 23:59:57  50.037000\n",
      "2020-01-31 23:59:58  50.035000\n",
      "2020-01-31 23:59:59  50.034000\n",
      "\n",
      "[2678400 rows x 1 columns]\n"
     ]
    }
   ],
   "source": [
    "df = pd.read_csv('/home/sairam/projects/evv2gfcr/evv2gfcr/FrequencyGenerator/FrequencyData/FrequencyData.csv', index_col=0)\n",
    "print(df)\n",
    "\n"
   ]
  },
  {
   "cell_type": "code",
   "execution_count": 3,
   "metadata": {},
   "outputs": [
    {
     "data": {
      "text/html": [
       "<div>\n",
       "<style scoped>\n",
       "    .dataframe tbody tr th:only-of-type {\n",
       "        vertical-align: middle;\n",
       "    }\n",
       "\n",
       "    .dataframe tbody tr th {\n",
       "        vertical-align: top;\n",
       "    }\n",
       "\n",
       "    .dataframe thead th {\n",
       "        text-align: right;\n",
       "    }\n",
       "</style>\n",
       "<table border=\"1\" class=\"dataframe\">\n",
       "  <thead>\n",
       "    <tr style=\"text-align: right;\">\n",
       "      <th></th>\n",
       "      <th>Frequency</th>\n",
       "    </tr>\n",
       "  </thead>\n",
       "  <tbody>\n",
       "    <tr>\n",
       "      <th>count</th>\n",
       "      <td>2.678400e+06</td>\n",
       "    </tr>\n",
       "    <tr>\n",
       "      <th>mean</th>\n",
       "      <td>5.000023e+01</td>\n",
       "    </tr>\n",
       "    <tr>\n",
       "      <th>std</th>\n",
       "      <td>1.839557e-02</td>\n",
       "    </tr>\n",
       "    <tr>\n",
       "      <th>min</th>\n",
       "      <td>4.988500e+01</td>\n",
       "    </tr>\n",
       "    <tr>\n",
       "      <th>25%</th>\n",
       "      <td>4.998900e+01</td>\n",
       "    </tr>\n",
       "    <tr>\n",
       "      <th>50%</th>\n",
       "      <td>5.000023e+01</td>\n",
       "    </tr>\n",
       "    <tr>\n",
       "      <th>75%</th>\n",
       "      <td>5.001200e+01</td>\n",
       "    </tr>\n",
       "    <tr>\n",
       "      <th>max</th>\n",
       "      <td>5.015800e+01</td>\n",
       "    </tr>\n",
       "  </tbody>\n",
       "</table>\n",
       "</div>"
      ],
      "text/plain": [
       "          Frequency\n",
       "count  2.678400e+06\n",
       "mean   5.000023e+01\n",
       "std    1.839557e-02\n",
       "min    4.988500e+01\n",
       "25%    4.998900e+01\n",
       "50%    5.000023e+01\n",
       "75%    5.001200e+01\n",
       "max    5.015800e+01"
      ]
     },
     "execution_count": 3,
     "metadata": {},
     "output_type": "execute_result"
    }
   ],
   "source": [
    "df.describe()"
   ]
  },
  {
   "cell_type": "code",
   "execution_count": 4,
   "metadata": {},
   "outputs": [
    {
     "data": {
      "text/plain": [
       "<Axes: >"
      ]
     },
     "execution_count": 4,
     "metadata": {},
     "output_type": "execute_result"
    },
    {
     "data": {
      "text/plain": [
       "<Figure size 1200x500 with 0 Axes>"
      ]
     },
     "metadata": {},
     "output_type": "display_data"
    },
    {
     "data": {
      "image/png": "[encoded data removed]",
      "text/plain": [
       "<Figure size 640x480 with 1 Axes>"
      ]
     },
     "metadata": {},
     "output_type": "display_data"
    }
   ],
   "source": [
    "\n",
    "plt.figure(100, figsize=(12,5))\n",
    "df_subset = df.iloc[:10000]\n",
    "df_subset.plot()\n",
    "\n"
   ]
  },
  {
   "cell_type": "code",
   "execution_count": 5,
   "metadata": {},
   "outputs": [],
   "source": [
    "from darts import TimeSeries\n",
    "# analyze its seasonality\n",
    "\n",
    "# Assuming your DataFrame is named 'df' and the datetime column is named 'datetime'\n",
    "df.index = pd.to_datetime(df.index)\n",
    "ts = TimeSeries.from_dataframe(df)\n",
    "\n",
    "#is_seasonal, periodicity = check_seasonality(ts, max_lag=240)\n",
    "#dict_seas ={\n",
    "#    \"is seasonal?\":is_seasonal, \n",
    "#    \"periodicity (months)\":f'{periodicity:.1f}', \n",
    "#    \"periodicity (~years)\": f'{periodicity/12:.1f}'}\n",
    "#_ = [print(k,\":\",v) for k,v in dict_seas.items()]"
   ]
  },
  {
   "cell_type": "code",
   "execution_count": 6,
   "metadata": {},
   "outputs": [],
   "source": [
    "#plot_acf(ts, periodicity, max_lag=150)"
   ]
  },
  {
   "cell_type": "code",
   "execution_count": 7,
   "metadata": {},
   "outputs": [],
   "source": [
    "FC_START = \"20200120\"\n",
    "# Splitting TimeSeries\n",
    "train, val = ts.split_after(pd.Timestamp(FC_START))\n"
   ]
  },
  {
   "cell_type": "code",
   "execution_count": null,
   "metadata": {},
   "outputs": [],
   "source": [
    "# create month and year covariate series\n",
    "\n",
    "year_series = datetime_attribute_timeseries(\n",
    "    pd.date_range(start=series.start_time(), \n",
    "        freq=ts.freq_str, \n",
    "        periods=1000),\n",
    "    attribute='year', \n",
    "    one_hot=False)\n",
    "year_series = Scaler().fit_transform(year_series)\n",
    "\n",
    "month_series = datetime_attribute_timeseries(\n",
    "    year_series, \n",
    "    attribute='month', \n",
    "    one_hot=True)\n",
    "\n",
    "covariates = year_series.stack(month_series)\n",
    "cov_train, cov_val = covariates.split_after(pd.Timestamp(FC_START))"
   ]
  }
 ],
 "metadata": {
  "kernelspec": {
   "display_name": "rnnvenv",
   "language": "python",
   "name": "python3"
  },
  "language_info": {
   "codemirror_mode": {
    "name": "ipython",
    "version": 3
   },
   "file_extension": ".py",
   "mimetype": "text/x-python",
   "name": "python",
   "nbconvert_exporter": "python",
   "pygments_lexer": "ipython3",
   "version": "3.10.12"
  }
 },
 "nbformat": 4,
 "nbformat_minor": 2
}
